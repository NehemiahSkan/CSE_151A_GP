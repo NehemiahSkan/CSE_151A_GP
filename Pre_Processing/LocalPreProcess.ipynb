{
 "cells": [
  {
   "cell_type": "code",
   "execution_count": 6,
   "metadata": {},
   "outputs": [
    {
     "name": "stderr",
     "output_type": "stream",
     "text": [
      "[nltk_data] Downloading package stopwords to\n",
      "[nltk_data]     C:\\Users\\Oyka\\AppData\\Roaming\\nltk_data...\n",
      "[nltk_data]   Package stopwords is already up-to-date!\n"
     ]
    }
   ],
   "source": [
    "import pandas as pd\n",
    "import numpy as np\n",
    "import seaborn as sns\n",
    "import matplotlib.pyplot as plt\n",
    "import os.path\n",
    "import tensorflow as tf\n",
    "import tensorflow_text as text\n",
    "import heapq\n",
    "from collections import defaultdict\n",
    "import nltk\n",
    "from nltk.corpus import stopwords\n",
    "import string\n",
    "from keras.preprocessing.text import Tokenizer\n",
    "from keras.utils import pad_sequences\n",
    "\n",
    "nltk.download('stopwords')\n",
    "\n",
    "stop_words = set(stopwords.words('english'))\n",
    "\n",
    "data_path = '../local_data/'\n",
    "\n",
    "# Data Origin: https://huggingface.co/datasets/OpenCo7/UpVoteWeb"
   ]
  },
  {
   "cell_type": "code",
   "execution_count": 3,
   "metadata": {},
   "outputs": [
    {
     "name": "stdout",
     "output_type": "stream",
     "text": [
      "(4194304, 7)\n"
     ]
    }
   ],
   "source": [
    "working_df = pd.read_parquet(data_path + 'cleaned_df.parquet')\n",
    "print(working_df.shape)"
   ]
  },
  {
   "cell_type": "code",
   "execution_count": 4,
   "metadata": {},
   "outputs": [
    {
     "name": "stdout",
     "output_type": "stream",
     "text": [
      "              score   token_count\n",
      "count  50000.000000  50000.000000\n",
      "mean      11.486220     38.816120\n",
      "std       90.370388     75.795813\n",
      "min     -342.000000      1.000000\n",
      "25%        1.000000      9.000000\n",
      "50%        2.000000     19.000000\n",
      "75%        6.000000     43.000000\n",
      "max     8131.000000   5000.000000\n",
      "              id   parent_id  post_id  \\\n",
      "387174   kfvp22c  t3_18w1b67  18w1b67   \n",
      "157210   kfrpmb6  t1_kfqn4tk  18va664   \n",
      "2025338  kfurav7  t1_kfqx3zx  18v8qeh   \n",
      "2025602  kfxuiep  t3_14yqdz1  14yqdz1   \n",
      "974849   kft4fx3  t1_kfswyqd  18vq93u   \n",
      "\n",
      "                                                      text  \\\n",
      "387174      i won and picked 5th. took tyreek. worked out.   \n",
      "157210             this is exactly what i was going to say   \n",
      "2025338  my guy is definitely fugly. we brits are the s...   \n",
      "2025602                                          r/breadit   \n",
      "974849   https://preview.redd.it/dzfs20s88s9c1.jpeg?wid...   \n",
      "\n",
      "                    subreddit  score  token_count  \n",
      "387174        fantasyfootball      1           16  \n",
      "157210                RLCraft      3           11  \n",
      "2025338                  meme      1           49  \n",
      "2025602  Damnthatsinteresting      1            4  \n",
      "974849   OnePiecePowerScaling     13           69  \n"
     ]
    }
   ],
   "source": [
    "sample_df = working_df.sample(n=50000, random_state=1234)\n",
    "\n",
    "print(sample_df.describe())\n",
    "print(sample_df.head())\n"
   ]
  },
  {
   "cell_type": "code",
   "execution_count": 7,
   "metadata": {},
   "outputs": [],
   "source": [
    "sample_df['tokenized'] = sample_df['text'].apply(lambda x: [word for word in nltk.word_tokenize(x) if word not in stop_words and word not in string.punctuation])\n",
    "\n"
   ]
  },
  {
   "cell_type": "code",
   "execution_count": 8,
   "metadata": {},
   "outputs": [
    {
     "name": "stdout",
     "output_type": "stream",
     "text": [
      "              id   parent_id  post_id  \\\n",
      "387174   kfvp22c  t3_18w1b67  18w1b67   \n",
      "157210   kfrpmb6  t1_kfqn4tk  18va664   \n",
      "2025338  kfurav7  t1_kfqx3zx  18v8qeh   \n",
      "2025602  kfxuiep  t3_14yqdz1  14yqdz1   \n",
      "974849   kft4fx3  t1_kfswyqd  18vq93u   \n",
      "\n",
      "                                                      text  \\\n",
      "387174      i won and picked 5th. took tyreek. worked out.   \n",
      "157210             this is exactly what i was going to say   \n",
      "2025338  my guy is definitely fugly. we brits are the s...   \n",
      "2025602                                          r/breadit   \n",
      "974849   https://preview.redd.it/dzfs20s88s9c1.jpeg?wid...   \n",
      "\n",
      "                    subreddit  score  token_count  \\\n",
      "387174        fantasyfootball      1           16   \n",
      "157210                RLCraft      3           11   \n",
      "2025338                  meme      1           49   \n",
      "2025602  Damnthatsinteresting      1            4   \n",
      "974849   OnePiecePowerScaling     13           69   \n",
      "\n",
      "                                                 tokenized  \n",
      "387174                 [picked, 5th, took, tyreek, worked]  \n",
      "157210                               [exactly, going, say]  \n",
      "2025338  [guy, definitely, fugly, brits, sexiest, creat...  \n",
      "2025602                                        [r/breadit]  \n",
      "974849   [https, //preview.redd.it/dzfs20s88s9c1.jpeg, ...  \n"
     ]
    }
   ],
   "source": [
    "print(sample_df.head())"
   ]
  },
  {
   "cell_type": "code",
   "execution_count": 9,
   "metadata": {},
   "outputs": [],
   "source": [
    "word_list = []\n",
    "\n",
    "for row in sample_df['tokenized']:\n",
    "    word_list.extend(row)\n",
    "\n",
    "num_words = 6000\n",
    "\n",
    "tokenizer = Tokenizer(num_words=num_words)\n",
    "tokenizer.fit_on_texts(word_list)\n",
    "tokenized_train = tokenizer.texts_to_sequences(sample_df['tokenized'])"
   ]
  },
  {
   "cell_type": "markdown",
   "metadata": {},
   "source": [
    "# Neural Network"
   ]
  },
  {
   "cell_type": "code",
   "execution_count": 89,
   "metadata": {},
   "outputs": [],
   "source": [
    "from keras.models import Sequential\n",
    "from keras.layers import Dense\n",
    "from keras.layers import LSTM\n",
    "from keras.layers import Embedding\n",
    "from sklearn.model_selection import train_test_split\n",
    "from keras.layers import Dropout\n"
   ]
  },
  {
   "cell_type": "code",
   "execution_count": 16,
   "metadata": {},
   "outputs": [],
   "source": [
    "X = pad_sequences(tokenized_train, maxlen=500)\n",
    "y = sample_df['score']"
   ]
  },
  {
   "cell_type": "code",
   "execution_count": 17,
   "metadata": {},
   "outputs": [
    {
     "name": "stdout",
     "output_type": "stream",
     "text": [
      "[[1415, 2720, 258, 509], [261, 38, 52], [165, 143, 905, 1024, 215, 798, 2459, 27, 244, 2551, 169, 4, 3142, 211, 2609, 1301], [], [13, 9, 9, 9]]\n"
     ]
    }
   ],
   "source": [
    "print(tokenized_train[0:5])"
   ]
  },
  {
   "cell_type": "code",
   "execution_count": 18,
   "metadata": {},
   "outputs": [],
   "source": [
    "X_train, X_test, y_train, y_test = train_test_split(X, y, test_size=0.2, random_state=1234)"
   ]
  },
  {
   "cell_type": "code",
   "execution_count": 19,
   "metadata": {},
   "outputs": [
    {
     "name": "stdout",
     "output_type": "stream",
     "text": [
      "[   0    0    0    0    0    0    0    0    0    0    0    0    0    0\n",
      "    0    0    0    0    0    0    0    0    0    0    0    0    0    0\n",
      "    0    0    0    0    0    0    0    0    0    0    0    0    0    0\n",
      "    0    0    0    0    0    0    0    0    0    0    0    0    0    0\n",
      "    0    0    0    0    0    0    0    0    0    0    0    0    0    0\n",
      "    0    0    0    0    0    0    0    0    0    0    0    0    0    0\n",
      "    0    0    0    0    0    0    0    0    0    0    0    0    0    0\n",
      "    0    0    0    0    0    0    0    0    0    0    0    0    0    0\n",
      "    0    0    0    0    0    0    0    0    0    0    0    0    0    0\n",
      "    0    0    0    0    0    0    0    0    0    0    0    0    0    0\n",
      "    0    0    0    0    0    0    0    0    0    0    0    0    0    0\n",
      "    0    0    0    0    0    0    0    0    0    0    0    0    0    0\n",
      "    0    0    0    0    0    0    0    0    0    0    0    0    0    0\n",
      "    0    0    0    0    0    0    0    0    0    0    0    0    0    0\n",
      "    0    0    0    0    0    0    0    0    0    0    0    0    0    0\n",
      "    0    0    0    0    0    0    0    0    0    0    0    0    0    0\n",
      "    0    0    0    0    0    0    0    0    0    0    0    0    0    0\n",
      "    0    0    0    0    0    0    0    0    0    0    0    0    0    0\n",
      "    0    0    0    0    0    0    0    0    0    0    0    0    0    0\n",
      "    0    0    0    0    0    0    0    0    0    0    0    0    0    0\n",
      "    0    0    0    0    0    0    0    0    0    0    0    0    0    0\n",
      "    0    0    0    0    0    0    0    0    0    0    0    0    0    0\n",
      "    0    0    0    0    0    0    0    0    0    0    0    0    0    0\n",
      "    0    0    0    0    0    0    0    0    0    0    0    0    0    0\n",
      "    0    0    0    0    0    0    0    0    0    0    0    0    0    0\n",
      "    0    0    0    0    0    0    0    0    0    0    0    0    0    0\n",
      "    0    0    0    0    0    0    0    0    0    0    0    0    0    0\n",
      "    0    0    0    0    0    0    0    0    0    0    0    0    0    0\n",
      "    0    0    0    0    0    0    0    0    0    0    0    0    0    0\n",
      "    0    0    0    0    0    0    0    0    0    0    0    0    0    0\n",
      "    0    0    0    0    0    0    0    0    0    0    0    0    0    0\n",
      "    0    0    0    0    0    0    0    0    0    0    0    0    0    0\n",
      "    0    0    0    0    0    0    0    0    0    0    0    0    0    0\n",
      "    0    0    0    0    0    0    0    0    0    0    0    0    0    0\n",
      "    0    0    0    0    0  863   87   48   27    7  420  805 2265 3974\n",
      " 4740 2932  553 3757   35  550 4054  732  454 2370]\n",
      "1019013     7\n",
      "135182     10\n",
      "1305351     2\n",
      "956553      8\n",
      "518828      2\n",
      "Name: score, dtype: int64\n"
     ]
    }
   ],
   "source": [
    "print(X_train[0])\n",
    "print(y_train.head())"
   ]
  },
  {
   "cell_type": "code",
   "execution_count": 93,
   "metadata": {},
   "outputs": [
    {
     "name": "stdout",
     "output_type": "stream",
     "text": [
      "Model: \"sequential_5\"\n",
      "_________________________________________________________________\n",
      " Layer (type)                Output Shape              Param #   \n",
      "=================================================================\n",
      " embedding_5 (Embedding)     (None, 500, 32)           192000    \n",
      "                                                                 \n",
      " dense_10 (Dense)            (None, 500, 16)           528       \n",
      "                                                                 \n",
      " dropout_5 (Dropout)         (None, 500, 16)           0         \n",
      "                                                                 \n",
      " lstm_5 (LSTM)               (None, 16)                2112      \n",
      "                                                                 \n",
      " dense_11 (Dense)            (None, 1)                 17        \n",
      "                                                                 \n",
      "=================================================================\n",
      "Total params: 194,657\n",
      "Trainable params: 194,657\n",
      "Non-trainable params: 0\n",
      "_________________________________________________________________\n"
     ]
    }
   ],
   "source": [
    "model = Sequential()\n",
    "model.add(Embedding(input_dim=num_words, output_dim=32, input_length=500))\n",
    "model.add(Dense(16, activation='relu'))\n",
    "model.add(Dropout(0.2))\n",
    "model.add(LSTM(16))\n",
    "model.add(Dense(1, activation='linear'))\n",
    "model.summary()\n",
    "\n",
    "model.compile(loss='mean_squared_error', optimizer='adam', metrics=['mean_absolute_error', 'mean_squared_error'])"
   ]
  },
  {
   "cell_type": "code",
   "execution_count": 108,
   "metadata": {},
   "outputs": [
    {
     "name": "stdout",
     "output_type": "stream",
     "text": [
      "313/313 [==============================] - 30s 92ms/step - loss: 8630.5068 - mean_absolute_error: 14.3232 - mean_squared_error: 8630.5068 - val_loss: 6337.0186 - val_mean_absolute_error: 14.0831 - val_mean_squared_error: 6337.0186\n"
     ]
    }
   ],
   "source": [
    "results = model.fit(X_train, y_train, epochs=1, batch_size=128, validation_data=(X_test, y_test))"
   ]
  },
  {
   "cell_type": "code",
   "execution_count": 95,
   "metadata": {},
   "outputs": [],
   "source": [
    "model.save(data_path + 'lstm_model.h5')"
   ]
  },
  {
   "cell_type": "code",
   "execution_count": 96,
   "metadata": {},
   "outputs": [],
   "source": [
    "model = tf.keras.models.load_model(data_path + 'lstm_model.h5')"
   ]
  },
  {
   "cell_type": "code",
   "execution_count": 115,
   "metadata": {},
   "outputs": [
    {
     "name": "stdout",
     "output_type": "stream",
     "text": [
      "1250/1250 [==============================] - 23s 19ms/step\n",
      "313/313 [==============================] - 6s 19ms/step\n"
     ]
    }
   ],
   "source": [
    "yhat_train = model.predict(X_train)\n",
    "yhat_test = model.predict(X_test)"
   ]
  },
  {
   "cell_type": "code",
   "execution_count": 116,
   "metadata": {},
   "outputs": [
    {
     "name": "stdout",
     "output_type": "stream",
     "text": [
      "[[9.649352]\n",
      " [9.57006 ]\n",
      " [9.468715]\n",
      " [9.84659 ]\n",
      " [9.805129]]\n",
      "1864174    7\n",
      "1591824    2\n",
      "909041    -7\n",
      "2080100    2\n",
      "37832      4\n",
      "Name: score, dtype: int64\n"
     ]
    }
   ],
   "source": [
    "print(yhat_test[0:5])\n",
    "print(y_test[0:5])"
   ]
  },
  {
   "cell_type": "code",
   "execution_count": 117,
   "metadata": {},
   "outputs": [
    {
     "name": "stdout",
     "output_type": "stream",
     "text": [
      "{'loss': [8630.5068359375], 'mean_absolute_error': [14.323173522949219], 'mean_squared_error': [8630.5068359375], 'val_loss': [6337.0185546875], 'val_mean_absolute_error': [14.083123207092285], 'val_mean_squared_error': [6337.0185546875]}\n"
     ]
    }
   ],
   "source": [
    "print(results.history)"
   ]
  },
  {
   "cell_type": "code",
   "execution_count": 118,
   "metadata": {},
   "outputs": [
    {
     "name": "stdout",
     "output_type": "stream",
     "text": [
      "Training MAE: 14.323173522949219\n",
      "Training MSE: 8630.5068359375\n",
      "Test MAE: 14.083123207092285\n",
      "Test MSE: 6337.0185546875\n"
     ]
    }
   ],
   "source": [
    "from sklearn.metrics import mean_absolute_error, mean_squared_error, r2_score\n",
    "\n",
    "print(\"Training MAE: \" + str(results.history['mean_absolute_error'][0]))\n",
    "print(\"Training MSE: \" + str(results.history['mean_squared_error'][0]))\n",
    "print(\"Test MAE: \" + str(results.history['val_mean_absolute_error'][0]))\n",
    "print(\"Test MSE: \" + str(results.history['val_mean_squared_error'][0]))\n"
   ]
  },
  {
   "cell_type": "code",
   "execution_count": 121,
   "metadata": {},
   "outputs": [
    {
     "data": {
      "image/png": "[encoded data removed]",
      "text/plain": [
       "<Figure size 640x480 with 1 Axes>"
      ]
     },
     "metadata": {},
     "output_type": "display_data"
    }
   ],
   "source": [
    "# Training Score\n",
    "plt.scatter(y_train, yhat_train)\n",
    "plt.title('Validation Predicted vs Actual Score')\n",
    "plt.xlabel('Actual Score')\n",
    "plt.ylabel('Predicted Score')\n",
    "plt.show()"
   ]
  },
  {
   "cell_type": "code",
   "execution_count": 119,
   "metadata": {},
   "outputs": [
    {
     "data": {
      "image/png": "[encoded data removed]",
      "text/plain": [
       "<Figure size 640x480 with 1 Axes>"
      ]
     },
     "metadata": {},
     "output_type": "display_data"
    }
   ],
   "source": [
    "# Validation Score\n",
    "plt.scatter(y_test, yhat_test)\n",
    "plt.title('Validation Predicted vs Actual Score')\n",
    "plt.xlabel('Actual Score')\n",
    "plt.ylabel('Predicted Score')\n",
    "plt.show()"
   ]
  },
  {
   "cell_type": "code",
   "execution_count": null,
   "metadata": {},
   "outputs": [],
   "source": []
  }
 ],
 "metadata": {
  "kernelspec": {
   "display_name": ".venv",
   "language": "python",
   "name": "python3"
  },
  "language_info": {
   "codemirror_mode": {
    "name": "ipython",
    "version": 3
   },
   "file_extension": ".py",
   "mimetype": "text/x-python",
   "name": "python",
   "nbconvert_exporter": "python",
   "pygments_lexer": "ipython3",
   "version": "3.10.9"
  }
 },
 "nbformat": 4,
 "nbformat_minor": 2
}
