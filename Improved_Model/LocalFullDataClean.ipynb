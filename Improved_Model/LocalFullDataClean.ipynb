{
 "cells": [
  {
   "cell_type": "code",
   "execution_count": 1,
   "metadata": {},
   "outputs": [
    {
     "name": "stderr",
     "output_type": "stream",
     "text": [
      "[nltk_data] Downloading package stopwords to\n",
      "[nltk_data]     C:\\Users\\Oyka\\AppData\\Roaming\\nltk_data...\n",
      "[nltk_data]   Package stopwords is already up-to-date!\n"
     ]
    }
   ],
   "source": [
    "\n",
    "import pandas as pd\n",
    "import numpy as np\n",
    "import seaborn as sns\n",
    "import matplotlib.pyplot as plt\n",
    "import os.path\n",
    "import tensorflow as tf\n",
    "import tensorflow_text as text\n",
    "import heapq\n",
    "from collections import defaultdict\n",
    "import nltk\n",
    "from nltk.corpus import stopwords\n",
    "import string\n",
    "\n",
    "nltk.download('stopwords')\n",
    "\n",
    "data_path = '../local_data/'\n",
    "\n",
    "# Data Origin: https://huggingface.co/datasets/OpenCo7/UpVoteWeb"
   ]
  },
  {
   "cell_type": "code",
   "execution_count": null,
   "metadata": {},
   "outputs": [],
   "source": []
  },
  {
   "cell_type": "code",
   "execution_count": 2,
   "metadata": {},
   "outputs": [],
   "source": [
    "columns_to_drop = ['url', 'author', 'kind', 'language', 'language_score', 'media_urls', 'date']\n",
    "\n",
    "def clean(df):\n",
    "    df = df.drop(columns=columns_to_drop)\n",
    "    # df = df[df['score'] > 10]\n",
    "    df['text'] = df['text'].str.lower()\n",
    "    return df"
   ]
  },
  {
   "cell_type": "code",
   "execution_count": 3,
   "metadata": {},
   "outputs": [],
   "source": [
    "df = clean(pd.read_parquet(data_path + '0000.parquet'))\n",
    "df = pd.concat([df, clean(pd.read_parquet(data_path + '0001.parquet'))])\n",
    "df = pd.concat([df, clean(pd.read_parquet(data_path + '0002.parquet'))])\n",
    "df = pd.concat([df, clean(pd.read_parquet(data_path + '0003.parquet'))])\n",
    "df = pd.concat([df, clean(pd.read_parquet(data_path + '0004.parquet'))])\n",
    "df = pd.concat([df, clean(pd.read_parquet(data_path + '0005.parquet'))])"
   ]
  },
  {
   "cell_type": "code",
   "execution_count": 4,
   "metadata": {},
   "outputs": [
    {
     "name": "stdout",
     "output_type": "stream",
     "text": [
      "subreddit\n",
      "CFB                  205253\n",
      "AskReddit            132630\n",
      "nfl                   88266\n",
      "AITAH                 61633\n",
      "nba                   55018\n",
      "SquaredCircle         47946\n",
      "AmItheAsshole         47253\n",
      "politics              46122\n",
      "movies                41180\n",
      "NoStupidQuestions     40548\n",
      "Name: count, dtype: int64\n"
     ]
    }
   ],
   "source": [
    "print(df['subreddit'].value_counts().head(10))\n"
   ]
  },
  {
   "cell_type": "code",
   "execution_count": 5,
   "metadata": {},
   "outputs": [],
   "source": [
    "df.to_parquet(data_path + 'full_cleaned.parquet')"
   ]
  },
  {
   "cell_type": "code",
   "execution_count": null,
   "metadata": {},
   "outputs": [],
   "source": []
  }
 ],
 "metadata": {
  "kernelspec": {
   "display_name": "Python 3 (ipykernel)",
   "language": "python",
   "name": "python3"
  },
  "language_info": {
   "codemirror_mode": {
    "name": "ipython",
    "version": 3
   },
   "file_extension": ".py",
   "mimetype": "text/x-python",
   "name": "python",
   "nbconvert_exporter": "python",
   "pygments_lexer": "ipython3",
   "version": "3.10.9"
  }
 },
 "nbformat": 4,
 "nbformat_minor": 2
}
