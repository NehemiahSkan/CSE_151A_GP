{
 "cells": [
  {
   "cell_type": "code",
   "execution_count": 1,
   "metadata": {},
   "outputs": [
    {
     "name": "stderr",
     "output_type": "stream",
     "text": [
      "[nltk_data] Downloading package stopwords to\n",
      "[nltk_data]     C:\\Users\\Oyka\\AppData\\Roaming\\nltk_data...\n",
      "[nltk_data]   Package stopwords is already up-to-date!\n"
     ]
    }
   ],
   "source": [
    "import pandas as pd\n",
    "import numpy as np\n",
    "import seaborn as sns\n",
    "import matplotlib.pyplot as plt\n",
    "import os.path\n",
    "import tensorflow as tf\n",
    "import tensorflow_text as text\n",
    "import heapq\n",
    "from collections import defaultdict\n",
    "import nltk\n",
    "from nltk.corpus import stopwords\n",
    "import string\n",
    "from keras.preprocessing.text import Tokenizer\n",
    "from keras.utils import pad_sequences\n",
    "\n",
    "nltk.download('stopwords')\n",
    "\n",
    "stop_words = set(stopwords.words('english'))\n",
    "\n",
    "data_path = '../local_data/'\n",
    "\n",
    "# Data Origin: https://huggingface.co/datasets/OpenCo7/UpVoteWeb"
   ]
  },
  {
   "cell_type": "code",
   "execution_count": 2,
   "metadata": {},
   "outputs": [],
   "source": [
    "sample_df = pd.read_parquet(data_path + 'full_cleaned.parquet').sample(n=1000000, random_state=42)"
   ]
  },
  {
   "cell_type": "code",
   "execution_count": 3,
   "metadata": {},
   "outputs": [
    {
     "name": "stdout",
     "output_type": "stream",
     "text": [
      "                score     token_count\n",
      "count  1000000.000000  1000000.000000\n",
      "mean        10.744958       41.717826\n",
      "std         81.827338       73.353183\n",
      "min       -752.000000        0.000000\n",
      "25%          1.000000       10.000000\n",
      "50%          2.000000       21.000000\n",
      "75%          6.000000       47.000000\n",
      "max      22656.000000    15000.000000\n",
      "              id   parent_id  post_id  \\\n",
      "1053884  kft93ay  t1_kfpsce7  18v92qz   \n",
      "2007578  kgaouq0  t1_kg9bvog  18vw0iz   \n",
      "348753   kg8dmbg  t3_18xmvnu  18xmvnu   \n",
      "1872837  kgac2qs  t3_18yen66  18yen66   \n",
      "1172406  kg9g21v  t3_18xwc7c  18xwc7c   \n",
      "\n",
      "                                                      text       subreddit  \\\n",
      "1053884                                      r/emojipolice     indianmemer   \n",
      "2007578  she remains an admirer of the man who save her...  shitpostemblem   \n",
      "348753   so im confused. my stores had these since spri...       starbucks   \n",
      "1872837  porque quem age igual a cristo é crucificado. ...          brasil   \n",
      "1172406  almost everything n64 and ps1  snes is still fine          gaming   \n",
      "\n",
      "         score  token_count  \n",
      "1053884      1            7  \n",
      "2007578      1           89  \n",
      "348753       1           14  \n",
      "1872837      2           97  \n",
      "1172406      1           13  \n"
     ]
    }
   ],
   "source": [
    "print(sample_df.describe())\n",
    "print(sample_df.head())\n"
   ]
  },
  {
   "cell_type": "code",
   "execution_count": 4,
   "metadata": {},
   "outputs": [
    {
     "name": "stdout",
     "output_type": "stream",
     "text": [
      "subreddit\n",
      "CFB                  16184\n",
      "AskReddit            10458\n",
      "nfl                   7044\n",
      "AITAH                 5029\n",
      "nba                   4381\n",
      "AmItheAsshole         3885\n",
      "SquaredCircle         3779\n",
      "politics              3647\n",
      "NoStupidQuestions     3284\n",
      "movies                3139\n",
      "Name: count, dtype: int64\n",
      "              score   token_count           CFB     AskReddit           nfl  \\\n",
      "count  60830.000000  60830.000000  60830.000000  60830.000000  60830.000000   \n",
      "mean      18.666974     36.108647      0.266053      0.171922      0.115798   \n",
      "std      179.509335     55.686744      0.441896      0.377316      0.319985   \n",
      "min     -396.000000      0.000000      0.000000      0.000000      0.000000   \n",
      "25%        1.000000      9.000000      0.000000      0.000000      0.000000   \n",
      "50%        2.000000     19.000000      0.000000      0.000000      0.000000   \n",
      "75%        7.000000     41.000000      1.000000      0.000000      0.000000   \n",
      "max    22656.000000   3220.000000      1.000000      1.000000      1.000000   \n",
      "\n",
      "              AITAH           nba  AmItheAsshole  SquaredCircle      politics  \\\n",
      "count  60830.000000  60830.000000   60830.000000   60830.000000  60830.000000   \n",
      "mean       0.082673      0.072020       0.063867       0.062124      0.059954   \n",
      "std        0.275390      0.258524       0.244517       0.241383      0.237403   \n",
      "min        0.000000      0.000000       0.000000       0.000000      0.000000   \n",
      "25%        0.000000      0.000000       0.000000       0.000000      0.000000   \n",
      "50%        0.000000      0.000000       0.000000       0.000000      0.000000   \n",
      "75%        0.000000      0.000000       0.000000       0.000000      0.000000   \n",
      "max        1.000000      1.000000       1.000000       1.000000      1.000000   \n",
      "\n",
      "       NoStupidQuestions        movies  \n",
      "count       60830.000000  60830.000000  \n",
      "mean            0.053987      0.051603  \n",
      "std             0.225993      0.221226  \n",
      "min             0.000000      0.000000  \n",
      "25%             0.000000      0.000000  \n",
      "50%             0.000000      0.000000  \n",
      "75%             0.000000      0.000000  \n",
      "max             1.000000      1.000000  \n"
     ]
    }
   ],
   "source": [
    "print(sample_df['subreddit'].value_counts().head(10))\n",
    "\n",
    "top_subreddits = sample_df['subreddit'].value_counts().head(10).index.tolist()\n",
    "\n",
    "\n",
    "# Filter out the top 10 subreddits\n",
    "sample_df = sample_df[sample_df['subreddit'].isin(top_subreddits)]\n",
    "\n",
    "# One hot encode the top 10 subreddits\n",
    "for subreddit in top_subreddits:\n",
    "    sample_df[subreddit] = np.where(sample_df['subreddit'] == subreddit, 1, 0)\n",
    "\n",
    "print(sample_df.describe())"
   ]
  },
  {
   "cell_type": "code",
   "execution_count": 5,
   "metadata": {},
   "outputs": [],
   "source": [
    "sample_df['tokenized'] = sample_df['text'].apply(lambda x: [word for word in nltk.word_tokenize(x) if word not in stop_words and word not in string.punctuation])\n",
    "\n"
   ]
  },
  {
   "cell_type": "code",
   "execution_count": 6,
   "metadata": {},
   "outputs": [
    {
     "name": "stdout",
     "output_type": "stream",
     "text": [
      "              id   parent_id  post_id  \\\n",
      "823567   kfw55uc  t3_18w6kt1  18w6kt1   \n",
      "1603658  kfx3utn  t1_kfx2yow  18w6kt1   \n",
      "855291   kg2jn7l  t3_18x50dx  18x50dx   \n",
      "1583343  kfx4vnh  t3_18wd5xz  18wd5xz   \n",
      "2076438  kfy4dp8  t1_kfxeep9  18vwbrd   \n",
      "\n",
      "                                                      text          subreddit  \\\n",
      "823567   absolute dogshit game so far, these are playof...                CFB   \n",
      "1603658  the snap went into the dirt again. it was over...                CFB   \n",
      "855291   normally, i would say yta based on just the ti...              AITAH   \n",
      "1583343  really proud of our players.  so much improvem...                CFB   \n",
      "2076438  i have often thought of dying while hearing th...  NoStupidQuestions   \n",
      "\n",
      "         score  token_count  CFB  AskReddit  nfl  AITAH  nba  AmItheAsshole  \\\n",
      "823567       2           13    1          0    0      0    0              0   \n",
      "1603658      1           23    1          0    0      0    0              0   \n",
      "855291       1           58    0          0    0      1    0              0   \n",
      "1583343      4           26    1          0    0      0    0              0   \n",
      "2076438      1           15    0          0    0      0    0              0   \n",
      "\n",
      "         SquaredCircle  politics  NoStupidQuestions  movies  \\\n",
      "823567               0         0                  0       0   \n",
      "1603658              0         0                  0       0   \n",
      "855291               0         0                  0       0   \n",
      "1583343              0         0                  0       0   \n",
      "2076438              0         0                  1       0   \n",
      "\n",
      "                                                 tokenized  \n",
      "823567      [absolute, dogshit, game, far, playoff, teams]  \n",
      "1603658  [snap, went, dirt, point, center, needs, pack,...  \n",
      "855291   [normally, would, say, yta, based, title, sill...  \n",
      "1583343  [really, proud, players, much, improvement, ye...  \n",
      "2076438  [often, thought, dying, hearing, song, sung, c...  \n"
     ]
    }
   ],
   "source": [
    "print(sample_df.head())"
   ]
  },
  {
   "cell_type": "code",
   "execution_count": 7,
   "metadata": {},
   "outputs": [],
   "source": [
    "word_list = []\n",
    "\n",
    "for row in sample_df['tokenized']:\n",
    "    word_list.extend(row)\n",
    "\n",
    "num_words = 6000\n",
    "\n",
    "tokenizer = Tokenizer(num_words=num_words)\n",
    "tokenizer.fit_on_texts(word_list)\n",
    "tokenized_train = tokenizer.texts_to_sequences(sample_df['tokenized'])"
   ]
  },
  {
   "cell_type": "markdown",
   "metadata": {},
   "source": [
    "# Neural Network"
   ]
  },
  {
   "cell_type": "code",
   "execution_count": 8,
   "metadata": {},
   "outputs": [],
   "source": [
    "from keras.models import Sequential\n",
    "from keras.layers import Dense\n",
    "from keras.layers import LSTM\n",
    "from keras.layers import Embedding\n",
    "from sklearn.model_selection import train_test_split\n",
    "from keras.layers import Dropout\n"
   ]
  },
  {
   "cell_type": "code",
   "execution_count": 9,
   "metadata": {},
   "outputs": [],
   "source": [
    "X = pad_sequences(tokenized_train, maxlen=500)\n",
    "y = sample_df[top_subreddits]"
   ]
  },
  {
   "cell_type": "code",
   "execution_count": 10,
   "metadata": {},
   "outputs": [
    {
     "name": "stdout",
     "output_type": "stream",
     "text": [
      "CFB                  16184\n",
      "AskReddit            10458\n",
      "nfl                   7044\n",
      "AITAH                 5029\n",
      "nba                   4381\n",
      "AmItheAsshole         3885\n",
      "SquaredCircle         3779\n",
      "politics              3647\n",
      "NoStupidQuestions     3284\n",
      "movies                3139\n",
      "dtype: int64\n"
     ]
    }
   ],
   "source": [
    "print(y.sum())"
   ]
  },
  {
   "cell_type": "code",
   "execution_count": 11,
   "metadata": {},
   "outputs": [],
   "source": [
    "X_train, X_test, y_train, y_test = train_test_split(X, y, test_size=0.2, random_state=1234)"
   ]
  },
  {
   "cell_type": "code",
   "execution_count": 12,
   "metadata": {},
   "outputs": [
    {
     "name": "stdout",
     "output_type": "stream",
     "text": [
      "[   0    0    0    0    0    0    0    0    0    0    0    0    0    0\n",
      "    0    0    0    0    0    0    0    0    0    0    0    0    0    0\n",
      "    0    0    0    0    0    0    0    0    0    0    0    0    0    0\n",
      "    0    0    0    0    0    0    0    0    0    0    0    0    0    0\n",
      "    0    0    0    0    0    0    0    0    0    0    0    0    0    0\n",
      "    0    0    0    0    0    0    0    0    0    0    0    0    0    0\n",
      "    0    0    0    0    0    0    0    0    0    0    0    0    0    0\n",
      "    0    0    0    0    0    0    0    0    0    0    0    0    0    0\n",
      "    0    0    0    0    0    0    0    0    0    0    0    0    0    0\n",
      "    0    0    0    0    0    0    0    0    0    0    0    0    0    0\n",
      "    0    0    0    0    0    0    0    0    0    0    0    0    0    0\n",
      "    0    0    0    0    0    0    0    0    0    0    0    0    0    0\n",
      "    0    0    0    0    0    0    0    0    0    0    0    0    0    0\n",
      "    0    0    0    0    0    0    0    0    0    0    0    0    0    0\n",
      "    0    0    0    0    0    0    0    0    0    0    0    0    0    0\n",
      "    0    0    0    0    0    0    0    0    0    0    0    0    0    0\n",
      "    0    0    0    0    0    0    0    0    0    0    0    0    0    0\n",
      "    0    0    0    0    0    0    0    0    0    0    0    0    0    0\n",
      "    0    0    0    0    0    0    0    0    0    0    0    0    0    0\n",
      "    0    0    0    0    0    0    0    0    0    0    0    0    0    0\n",
      "    0    0    0    0    0    0    0    0    0    0    0    0    0    0\n",
      "    0    0    0    0    0    0    0    0    0    0    0    0    0    0\n",
      "    0    0    0    0    0    0    0    0    0    0    0    0    0    0\n",
      "    0    0    0    0    0    0    0    0    0    0    0    0    0    0\n",
      "    0    0    0    0    0    0    0    0    0    0    0    0    0    0\n",
      "    0    0    0    0    0    0    0    0    0    0    0    0    0    0\n",
      "    0    0    0    0    0    0    0    0    0    0    0    0    0    0\n",
      "    0    0    0    0    0    0    0    0    0    0    0    0    0    0\n",
      "    0    0    0    0    0    0    0    0    0    0    0    0    0    0\n",
      "    0    0    0    0    0    0    0    0    0    0    0    0    0    0\n",
      "    0    0    0    0    0    0    0    0    0    0    0    0    0    0\n",
      "    0    0    0    0    0    0    0    0    0    0    0    0    0    0\n",
      "    0    0    0    0    0    0    0    0    0    0    0    0    0    0\n",
      "    0    0    0    0    0    0    0    0   97 5614 3988 1379 2543 2350\n",
      "  195   68  644  100   33   12  562  136  173  131   41 2518  100    1\n",
      "   12   60  777 1633 3039  203  725 1142 3050 5335]\n",
      "         CFB  AskReddit  nfl  AITAH  nba  AmItheAsshole  SquaredCircle  \\\n",
      "1712026    0          0    0      0    1              0              0   \n",
      "2016454    0          0    0      0    1              0              0   \n",
      "1300083    0          0    0      0    0              0              1   \n",
      "1340285    0          0    0      0    0              0              1   \n",
      "616        0          0    0      0    0              0              0   \n",
      "\n",
      "         politics  NoStupidQuestions  movies  \n",
      "1712026         0                  0       0  \n",
      "2016454         0                  0       0  \n",
      "1300083         0                  0       0  \n",
      "1340285         0                  0       0  \n",
      "616             0                  0       1  \n"
     ]
    }
   ],
   "source": [
    "print(X_train[0])\n",
    "print(y_train.head())"
   ]
  },
  {
   "cell_type": "code",
   "execution_count": 25,
   "metadata": {},
   "outputs": [
    {
     "name": "stdout",
     "output_type": "stream",
     "text": [
      "Model: \"sequential_1\"\n",
      "_________________________________________________________________\n",
      " Layer (type)                Output Shape              Param #   \n",
      "=================================================================\n",
      " embedding_1 (Embedding)     (None, 500, 32)           192000    \n",
      "                                                                 \n",
      " dense_2 (Dense)             (None, 500, 32)           1056      \n",
      "                                                                 \n",
      " dropout_1 (Dropout)         (None, 500, 32)           0         \n",
      "                                                                 \n",
      " lstm_1 (LSTM)               (None, 32)                8320      \n",
      "                                                                 \n",
      " dense_3 (Dense)             (None, 10)                330       \n",
      "                                                                 \n",
      "=================================================================\n",
      "Total params: 201,706\n",
      "Trainable params: 201,706\n",
      "Non-trainable params: 0\n",
      "_________________________________________________________________\n"
     ]
    }
   ],
   "source": [
    "model = Sequential()\n",
    "model.add(Embedding(input_dim=num_words, output_dim=32, input_length=500))\n",
    "model.add(Dense(32, activation='relu'))\n",
    "model.add(Dropout(0.2))\n",
    "model.add(LSTM(32))\n",
    "model.add(Dense(10, activation='softmax'))\n",
    "model.summary()\n",
    "\n",
    "model.compile(loss='categorical_crossentropy', optimizer='adam', metrics=['accuracy'])"
   ]
  },
  {
   "cell_type": "code",
   "execution_count": 26,
   "metadata": {},
   "outputs": [],
   "source": [
    "early_stopping = tf.keras.callbacks.EarlyStopping(\n",
    "    monitor='val_loss',\n",
    "    min_delta=0,\n",
    "    patience=0,\n",
    "    verbose=0,\n",
    "    mode='auto',\n",
    "    baseline=None,\n",
    "    restore_best_weights=True,\n",
    ")"
   ]
  },
  {
   "cell_type": "code",
   "execution_count": 27,
   "metadata": {},
   "outputs": [
    {
     "name": "stdout",
     "output_type": "stream",
     "text": [
      "Epoch 1/20\n",
      "381/381 [==============================] - 59s 150ms/step - loss: 1.8322 - accuracy: 0.3558 - val_loss: 1.5985 - val_accuracy: 0.4293\n",
      "Epoch 2/20\n",
      "381/381 [==============================] - 56s 148ms/step - loss: 1.4699 - accuracy: 0.4729 - val_loss: 1.4671 - val_accuracy: 0.4854\n"
     ]
    }
   ],
   "source": [
    "results = model.fit(X_train, y_train, epochs=20, batch_size=128, validation_data=(X_test, y_test), callbacks=[early_stopping])"
   ]
  },
  {
   "cell_type": "code",
   "execution_count": 28,
   "metadata": {},
   "outputs": [],
   "source": [
    "model.save(data_path + 'lstm_classify.h5')"
   ]
  },
  {
   "cell_type": "code",
   "execution_count": 26,
   "metadata": {},
   "outputs": [],
   "source": [
    "model = tf.keras.models.load_model(data_path + 'lstm_classify.h5')"
   ]
  },
  {
   "cell_type": "code",
   "execution_count": 29,
   "metadata": {},
   "outputs": [
    {
     "name": "stdout",
     "output_type": "stream",
     "text": [
      "1521/1521 [==============================] - 40s 26ms/step\n",
      "381/381 [==============================] - 10s 26ms/step\n"
     ]
    }
   ],
   "source": [
    "yhat_train = model.predict(X_train)\n",
    "yhat_test = model.predict(X_test)"
   ]
  },
  {
   "cell_type": "code",
   "execution_count": 30,
   "metadata": {},
   "outputs": [
    {
     "name": "stdout",
     "output_type": "stream",
     "text": [
      "[[4.39056149e-03 5.41845143e-01 7.70428265e-03 4.67955768e-02\n",
      "  2.37352052e-03 2.23758910e-02 1.00129237e-02 2.51632873e-02\n",
      "  2.12441087e-01 1.26897648e-01]\n",
      " [9.12258565e-01 1.91902835e-03 6.44733757e-02 1.32142741e-04\n",
      "  1.84842814e-02 6.72016613e-05 1.58005126e-03 2.67956406e-04\n",
      "  1.14983246e-04 7.02418154e-04]\n",
      " [2.42302150e-01 9.62332170e-03 4.68208700e-01 1.08742912e-03\n",
      "  2.25448400e-01 6.57711178e-04 3.40579525e-02 1.04108257e-02\n",
      "  2.67159683e-03 5.53189032e-03]\n",
      " [3.03591847e-01 2.10435644e-01 9.80094224e-02 3.26715000e-02\n",
      "  6.74071908e-02 1.91241894e-02 8.99511948e-02 4.05768119e-02\n",
      "  5.70094064e-02 8.12227502e-02]\n",
      " [3.27508636e-02 6.00941898e-03 4.26127374e-01 3.10336077e-03\n",
      "  4.13196385e-01 1.87883026e-03 7.72286579e-02 3.31148989e-02\n",
      "  3.13147926e-03 3.45873088e-03]]\n",
      "         CFB  AskReddit  nfl  AITAH  nba  AmItheAsshole  SquaredCircle  \\\n",
      "1423996    0          1    0      0    0              0              0   \n",
      "582982     1          0    0      0    0              0              0   \n",
      "1189998    0          0    1      0    0              0              0   \n",
      "951283     0          1    0      0    0              0              0   \n",
      "905112     0          0    0      0    1              0              0   \n",
      "\n",
      "         politics  NoStupidQuestions  movies  \n",
      "1423996         0                  0       0  \n",
      "582982          0                  0       0  \n",
      "1189998         0                  0       0  \n",
      "951283          0                  0       0  \n",
      "905112          0                  0       0  \n"
     ]
    }
   ],
   "source": [
    "print(yhat_test[0:5])\n",
    "print(y_test[0:5])"
   ]
  },
  {
   "cell_type": "code",
   "execution_count": 31,
   "metadata": {},
   "outputs": [
    {
     "name": "stdout",
     "output_type": "stream",
     "text": [
      "{'loss': [1.832237720489502, 1.4699130058288574], 'accuracy': [0.35576605796813965, 0.4728957712650299], 'val_loss': [1.5985350608825684, 1.4671090841293335], 'val_accuracy': [0.42931118607521057, 0.4853690564632416]}\n"
     ]
    }
   ],
   "source": [
    "print(results.history)"
   ]
  },
  {
   "cell_type": "code",
   "execution_count": 32,
   "metadata": {},
   "outputs": [
    {
     "name": "stdout",
     "output_type": "stream",
     "text": [
      "                   precision    recall  f1-score   support\n",
      "\n",
      "              CFB       0.81      0.59      0.68      4470\n",
      "        AskReddit       0.69      0.37      0.48      3838\n",
      "              nfl       0.49      0.54      0.51      1310\n",
      "            AITAH       0.58      0.43      0.49      1326\n",
      "              nba       0.17      0.57      0.26       242\n",
      "    AmItheAsshole       0.08      0.62      0.14       104\n",
      "    SquaredCircle       0.22      0.40      0.28       420\n",
      "         politics       0.30      0.46      0.36       456\n",
      "NoStupidQuestions       0.00      0.00      0.00         0\n",
      "           movies       0.00      0.00      0.00         0\n",
      "\n",
      "         accuracy                           0.49     12166\n",
      "        macro avg       0.33      0.40      0.32     12166\n",
      "     weighted avg       0.65      0.49      0.54     12166\n",
      "\n"
     ]
    },
    {
     "name": "stderr",
     "output_type": "stream",
     "text": [
      "d:\\Github\\CSE_151A_GP\\.venv\\lib\\site-packages\\sklearn\\metrics\\_classification.py:1531: UndefinedMetricWarning: Recall is ill-defined and being set to 0.0 in labels with no true samples. Use `zero_division` parameter to control this behavior.\n",
      "  _warn_prf(average, modifier, f\"{metric.capitalize()} is\", len(result))\n",
      "d:\\Github\\CSE_151A_GP\\.venv\\lib\\site-packages\\sklearn\\metrics\\_classification.py:1531: UndefinedMetricWarning: Recall is ill-defined and being set to 0.0 in labels with no true samples. Use `zero_division` parameter to control this behavior.\n",
      "  _warn_prf(average, modifier, f\"{metric.capitalize()} is\", len(result))\n",
      "d:\\Github\\CSE_151A_GP\\.venv\\lib\\site-packages\\sklearn\\metrics\\_classification.py:1531: UndefinedMetricWarning: Recall is ill-defined and being set to 0.0 in labels with no true samples. Use `zero_division` parameter to control this behavior.\n",
      "  _warn_prf(average, modifier, f\"{metric.capitalize()} is\", len(result))\n"
     ]
    }
   ],
   "source": [
    "from sklearn.metrics import classification_report\n",
    "from sklearn.metrics import confusion_matrix\n",
    "\n",
    "yhat_test_index = np.argmax(yhat_test, axis=1)\n",
    "y_test_index = np.argmax(y_test, axis=1)\n",
    "\n",
    "print(classification_report(yhat_test_index, y_test_index, target_names=top_subreddits))"
   ]
  },
  {
   "cell_type": "code",
   "execution_count": 33,
   "metadata": {},
   "outputs": [
    {
     "data": {
      "text/plain": [
       "<Axes: >"
      ]
     },
     "execution_count": 33,
     "metadata": {},
     "output_type": "execute_result"
    },
    {
     "data": {
      "image/png": "[encoded data removed]",
      "text/plain": [
       "<Figure size 640x480 with 2 Axes>"
      ]
     },
     "metadata": {},
     "output_type": "display_data"
    }
   ],
   "source": [
    "conf_matrix = confusion_matrix(yhat_test_index, y_test_index)\n",
    "\n",
    "sns.heatmap(conf_matrix, annot=True, fmt='d', cmap='Blues', xticklabels=top_subreddits, yticklabels=top_subreddits)"
   ]
  },
  {
   "cell_type": "code",
   "execution_count": null,
   "metadata": {},
   "outputs": [],
   "source": []
  }
 ],
 "metadata": {
  "kernelspec": {
   "display_name": "Python 3 (ipykernel)",
   "language": "python",
   "name": "python3"
  },
  "language_info": {
   "codemirror_mode": {
    "name": "ipython",
    "version": 3
   },
   "file_extension": ".py",
   "mimetype": "text/x-python",
   "name": "python",
   "nbconvert_exporter": "python",
   "pygments_lexer": "ipython3",
   "version": "3.10.9"
  }
 },
 "nbformat": 4,
 "nbformat_minor": 2
}
