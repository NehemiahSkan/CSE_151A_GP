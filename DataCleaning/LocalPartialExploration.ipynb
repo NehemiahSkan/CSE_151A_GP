{
 "cells": [
  {
   "cell_type": "code",
   "execution_count": 7,
   "metadata": {},
   "outputs": [
    {
     "name": "stderr",
     "output_type": "stream",
     "text": [
      "[nltk_data] Downloading package stopwords to\n",
      "[nltk_data]     C:\\Users\\Oyka\\AppData\\Roaming\\nltk_data...\n",
      "[nltk_data]   Package stopwords is already up-to-date!\n"
     ]
    }
   ],
   "source": [
    "import pandas as pd\n",
    "import numpy as np\n",
    "import seaborn as sns\n",
    "import matplotlib.pyplot as plt\n",
    "import os.path\n",
    "import tensorflow as tf\n",
    "import tensorflow_text as text\n",
    "import heapq\n",
    "from collections import defaultdict\n",
    "import nltk\n",
    "from nltk.corpus import stopwords\n",
    "import string\n",
    "\n",
    "nltk.download('stopwords')\n",
    "\n",
    "data_path = '../local_data/'"
   ]
  },
  {
   "cell_type": "code",
   "execution_count": 8,
   "metadata": {},
   "outputs": [],
   "source": [
    "columns_to_drop = ['url', 'author', 'kind', 'language', 'language_score', 'media_urls', 'date']\n",
    "\n",
    "def clean(df):\n",
    "    df = df.drop(columns=columns_to_drop)\n",
    "    df = df[df['score'] > 10]\n",
    "    df['text'] = df['text'].str.lower()\n",
    "    return df"
   ]
  },
  {
   "cell_type": "code",
   "execution_count": 15,
   "metadata": {},
   "outputs": [],
   "source": [
    "working_df = pd.DataFrame()"
   ]
  },
  {
   "cell_type": "code",
   "execution_count": 19,
   "metadata": {},
   "outputs": [],
   "source": [
    "df = pd.read_parquet(data_path + '0000.parquet')\n",
    "cleaned_df = clean(df)\n",
    "working_df = pd.concat([working_df, cleaned_df])"
   ]
  },
  {
   "cell_type": "code",
   "execution_count": 20,
   "metadata": {},
   "outputs": [],
   "source": [
    "df = pd.read_parquet(data_path + '0001.parquet')\n",
    "cleaned_df = clean(df)\n",
    "working_df = pd.concat([working_df, cleaned_df])"
   ]
  },
  {
   "cell_type": "code",
   "execution_count": 21,
   "metadata": {},
   "outputs": [],
   "source": [
    "\n",
    "working_df.to_parquet(data_path + 'cleaned_df.parquet')"
   ]
  },
  {
   "cell_type": "code",
   "execution_count": 22,
   "metadata": {},
   "outputs": [],
   "source": [
    "working_df = pd.read_parquet(data_path + 'cleaned_df.parquet')"
   ]
  },
  {
   "cell_type": "code",
   "execution_count": 23,
   "metadata": {},
   "outputs": [
    {
     "data": {
      "text/html": [
       "<div>\n",
       "<style scoped>\n",
       "    .dataframe tbody tr th:only-of-type {\n",
       "        vertical-align: middle;\n",
       "    }\n",
       "\n",
       "    .dataframe tbody tr th {\n",
       "        vertical-align: top;\n",
       "    }\n",
       "\n",
       "    .dataframe thead th {\n",
       "        text-align: right;\n",
       "    }\n",
       "</style>\n",
       "<table border=\"1\" class=\"dataframe\">\n",
       "  <thead>\n",
       "    <tr style=\"text-align: right;\">\n",
       "      <th></th>\n",
       "      <th>score</th>\n",
       "      <th>token_count</th>\n",
       "    </tr>\n",
       "  </thead>\n",
       "  <tbody>\n",
       "    <tr>\n",
       "      <th>count</th>\n",
       "      <td>639895.000000</td>\n",
       "      <td>639895.000000</td>\n",
       "    </tr>\n",
       "    <tr>\n",
       "      <th>mean</th>\n",
       "      <td>58.504706</td>\n",
       "      <td>42.768525</td>\n",
       "    </tr>\n",
       "    <tr>\n",
       "      <th>std</th>\n",
       "      <td>198.963952</td>\n",
       "      <td>69.876524</td>\n",
       "    </tr>\n",
       "    <tr>\n",
       "      <th>min</th>\n",
       "      <td>11.000000</td>\n",
       "      <td>1.000000</td>\n",
       "    </tr>\n",
       "    <tr>\n",
       "      <th>25%</th>\n",
       "      <td>15.000000</td>\n",
       "      <td>12.000000</td>\n",
       "    </tr>\n",
       "    <tr>\n",
       "      <th>50%</th>\n",
       "      <td>23.000000</td>\n",
       "      <td>23.000000</td>\n",
       "    </tr>\n",
       "    <tr>\n",
       "      <th>75%</th>\n",
       "      <td>46.000000</td>\n",
       "      <td>49.000000</td>\n",
       "    </tr>\n",
       "    <tr>\n",
       "      <th>max</th>\n",
       "      <td>18967.000000</td>\n",
       "      <td>3462.000000</td>\n",
       "    </tr>\n",
       "  </tbody>\n",
       "</table>\n",
       "</div>"
      ],
      "text/plain": [
       "               score    token_count\n",
       "count  639895.000000  639895.000000\n",
       "mean       58.504706      42.768525\n",
       "std       198.963952      69.876524\n",
       "min        11.000000       1.000000\n",
       "25%        15.000000      12.000000\n",
       "50%        23.000000      23.000000\n",
       "75%        46.000000      49.000000\n",
       "max     18967.000000    3462.000000"
      ]
     },
     "execution_count": 23,
     "metadata": {},
     "output_type": "execute_result"
    }
   ],
   "source": [
    "working_df.describe()"
   ]
  },
  {
   "cell_type": "code",
   "execution_count": 24,
   "metadata": {},
   "outputs": [
    {
     "name": "stdout",
     "output_type": "stream",
     "text": [
      "               score    token_count\n",
      "count  639895.000000  639895.000000\n",
      "mean       58.504706      42.768525\n",
      "std       198.963952      69.876524\n",
      "min        11.000000       1.000000\n",
      "25%        15.000000      12.000000\n",
      "50%        23.000000      23.000000\n",
      "75%        46.000000      49.000000\n",
      "max     18967.000000    3462.000000\n"
     ]
    }
   ],
   "source": [
    "sample_df = working_df[0:1000000]\n",
    "\n",
    "print(working_df.describe())\n",
    "\n",
    "tokenizer = text.UnicodeScriptTokenizer()\n",
    "\n",
    "tokenized = tokenizer.tokenize(working_df['text']).to_list()"
   ]
  },
  {
   "cell_type": "code",
   "execution_count": 28,
   "metadata": {},
   "outputs": [
    {
     "name": "stdout",
     "output_type": "stream",
     "text": [
      "[(35661, 'good'), (38029, 'also'), (42290, 'time'), (54739, 'get'), (38746, 'even'), (43824, 'think'), (55851, 'would'), (59752, 'one'), (56019, 'people'), (95730, 'like')]\n",
      "(35661, 'good')\n",
      "(38029, 'also')\n",
      "(38746, 'even')\n",
      "(42290, 'time')\n",
      "(43824, 'think')\n",
      "(54739, 'get')\n",
      "(55851, 'would')\n",
      "(56019, 'people')\n",
      "(59752, 'one')\n",
      "(95730, 'like')\n"
     ]
    }
   ],
   "source": [
    "counts = defaultdict(int)\n",
    "\n",
    "stop_words = set(stopwords.words('english'))\n",
    "\n",
    "outliers = ['’', 'amp']\n",
    "\n",
    "for item in tokenized:\n",
    "    for word in item:\n",
    "        cur = word.decode('utf-8', errors='ignore')\n",
    "        if cur in stop_words or cur in string.punctuation or cur in outliers:\n",
    "            continue\n",
    "        if cur in counts:\n",
    "            counts[cur] += 1\n",
    "        else:\n",
    "            counts[cur] = 1\n",
    "\n",
    "min_heap = []\n",
    "\n",
    "for word, count in counts.items():\n",
    "    heapq.heappush(min_heap, (count, word))\n",
    "    if len(min_heap) > 10:\n",
    "        heapq.heappop(min_heap)\n",
    "\n",
    "print(min_heap)\n",
    "\n",
    "min_heap.sort()\n",
    "\n",
    "for i in range(10):\n",
    "    print(min_heap[i])"
   ]
  },
  {
   "cell_type": "code",
   "execution_count": 29,
   "metadata": {},
   "outputs": [
    {
     "data": {
      "image/png": "[encoded data removed]",
      "text/plain": [
       "<Figure size 1000x500 with 1 Axes>"
      ]
     },
     "metadata": {},
     "output_type": "display_data"
    }
   ],
   "source": [
    "# Draw a bar graph of the most used words\n",
    "counts, words = zip(*min_heap)\n",
    "plt.figure(figsize=(10, 5))\n",
    "plt.bar(words, counts)\n",
    "plt.xlabel('Words')\n",
    "plt.ylabel('Count')\n",
    "plt.title('Most used words from a sample of 640k comments')\n",
    "plt.show()"
   ]
  },
  {
   "cell_type": "code",
   "execution_count": null,
   "metadata": {},
   "outputs": [],
   "source": []
  }
 ],
 "metadata": {
  "kernelspec": {
   "display_name": ".venv",
   "language": "python",
   "name": "python3"
  },
  "language_info": {
   "codemirror_mode": {
    "name": "ipython",
    "version": 3
   },
   "file_extension": ".py",
   "mimetype": "text/x-python",
   "name": "python",
   "nbconvert_exporter": "python",
   "pygments_lexer": "ipython3",
   "version": "3.10.9"
  }
 },
 "nbformat": 4,
 "nbformat_minor": 2
}
