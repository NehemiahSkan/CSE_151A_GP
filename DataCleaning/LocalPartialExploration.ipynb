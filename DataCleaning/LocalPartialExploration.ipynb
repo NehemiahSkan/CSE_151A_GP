{
 "cells": [
  {
   "cell_type": "code",
   "execution_count": 19,
   "metadata": {},
   "outputs": [
    {
     "name": "stderr",
     "output_type": "stream",
     "text": [
      "[nltk_data] Downloading package stopwords to\n",
      "[nltk_data]     C:\\Users\\Oyka\\AppData\\Roaming\\nltk_data...\n",
      "[nltk_data]   Package stopwords is already up-to-date!\n"
     ]
    }
   ],
   "source": [
    "import pandas as pd\n",
    "import numpy as np\n",
    "import seaborn as sns\n",
    "import matplotlib.pyplot as plt\n",
    "import os.path\n",
    "import tensorflow as tf\n",
    "import tensorflow_text as text\n",
    "import heapq\n",
    "from collections import defaultdict\n",
    "import nltk\n",
    "from nltk.corpus import stopwords\n",
    "import string\n",
    "\n",
    "nltk.download('stopwords')\n",
    "\n",
    "data_path = '../local_data/'"
   ]
  },
  {
   "cell_type": "code",
   "execution_count": 10,
   "metadata": {},
   "outputs": [],
   "source": [
    "columns_to_drop = ['url', 'author', 'kind', 'language', 'language_score', 'media_urls', 'date']\n",
    "\n",
    "def clean(df):\n",
    "    df = df.drop(columns=columns_to_drop)\n",
    "    df = df[df['score'] > 10]\n",
    "    return df"
   ]
  },
  {
   "cell_type": "code",
   "execution_count": 20,
   "metadata": {},
   "outputs": [],
   "source": [
    "df = pd.read_parquet(data_path + '0000.parquet')\n",
    "cleaned_df = clean(df)\n",
    "cleaned_df.to_parquet(data_path + 'cleaned_df.parquet')"
   ]
  },
  {
   "cell_type": "code",
   "execution_count": 12,
   "metadata": {},
   "outputs": [],
   "source": [
    "cleaned_df = pd.read_parquet('cleaned_df.parquet')"
   ]
  },
  {
   "cell_type": "code",
   "execution_count": 13,
   "metadata": {},
   "outputs": [
    {
     "name": "stdout",
     "output_type": "stream",
     "text": [
      "         id   parent_id  post_id  \\\n",
      "0   kfrxfcr  t3_18vki9b  18vki9b   \n",
      "1   kfrxfdj  t3_18vlhgc  18vlhgc   \n",
      "2   kfrxfde  t3_18vkkxu  18vkkxu   \n",
      "7   kfrxfds  t1_kfrbnij  18vfi1t   \n",
      "15  kfrxfcq  t3_18vjbca  18vjbca   \n",
      "\n",
      "                                                 text          subreddit  \\\n",
      "0   \"devsisters is so generous guys\"  the generosity:  CookieRunKingdoms   \n",
      "1   Omar Epps waiting in the wings to star in the ...                nfl   \n",
      "2   May 1899 be a better year for us all than 1899...       fallenlondon   \n",
      "7   Yeah I remember a fair few posts around releas...             gaming   \n",
      "15            “I do not gossip, I only speak truth” 😭       TikTokCringe   \n",
      "\n",
      "    score  token_count  \n",
      "0      35           13  \n",
      "1     253           19  \n",
      "2      39           15  \n",
      "7      52           43  \n",
      "15    107           15  \n",
      "               score    token_count\n",
      "count  319951.000000  319951.000000\n",
      "mean       58.800679      42.973333\n",
      "std       188.491731      70.894907\n",
      "min        11.000000       1.000000\n",
      "25%        15.000000      12.000000\n",
      "50%        23.000000      23.000000\n",
      "75%        47.000000      49.000000\n",
      "max     18085.000000    3289.000000\n",
      "[b'\"', b'devsisters', b'is', b'so', b'generous', b'guys', b'\"', b'the', b'generosity', b':']\n"
     ]
    }
   ],
   "source": [
    "print(cleaned_df.head())\n",
    "print(cleaned_df.describe())\n",
    "\n",
    "working_df = cleaned_df[0:1000000]\n",
    "\n",
    "tokenizer = text.UnicodeScriptTokenizer()\n",
    "\n",
    "tokenized = tokenizer.tokenize(working_df['text']).to_list()\n",
    "\n",
    "print(tokenized[0])"
   ]
  },
  {
   "cell_type": "code",
   "execution_count": 18,
   "metadata": {},
   "outputs": [
    {
     "name": "stdout",
     "output_type": "stream",
     "text": [
      "[(20952, 'think'), (25491, 'people'), (25507, 'get'), (25762, 'would'), (26910, 'one'), (32251, 'It'), (31660, 'The'), (201038, 'I'), (26684, 'amp'), (43707, 'like')]\n",
      "(20952, 'think')\n",
      "(25491, 'people')\n",
      "(25507, 'get')\n",
      "(25762, 'would')\n",
      "(26684, 'amp')\n",
      "(26910, 'one')\n",
      "(31660, 'The')\n",
      "(32251, 'It')\n",
      "(43707, 'like')\n",
      "(201038, 'I')\n"
     ]
    },
    {
     "data": {
      "image/png": "[encoded data removed]",
      "text/plain": [
       "<Figure size 1000x500 with 1 Axes>"
      ]
     },
     "metadata": {},
     "output_type": "display_data"
    }
   ],
   "source": [
    "counts = defaultdict(int)\n",
    "\n",
    "stop_words = set(stopwords.words('english'))\n",
    "\n",
    "outliers = ['’']\n",
    "\n",
    "for item in tokenized:\n",
    "    for word in item:\n",
    "        cur = word.decode('utf-8', errors='ignore')\n",
    "        if cur in stop_words or cur in string.punctuation or cur in outliers:\n",
    "            continue\n",
    "        if cur in counts:\n",
    "            counts[cur] += 1\n",
    "        else:\n",
    "            counts[cur] = 1\n",
    "\n",
    "min_heap = []\n",
    "\n",
    "for word, count in counts.items():\n",
    "    heapq.heappush(min_heap, (count, word))\n",
    "    if len(min_heap) > 10:\n",
    "        heapq.heappop(min_heap)\n",
    "\n",
    "print(min_heap)\n",
    "\n",
    "min_heap.sort()\n",
    "\n",
    "for i in range(10):\n",
    "    print(min_heap[i])\n",
    "\n",
    "\n",
    "# Draw a bar graph of the most used words\n",
    "counts, words = zip(*min_heap)\n",
    "plt.figure(figsize=(10, 5))\n",
    "plt.bar(words, counts)\n",
    "plt.show()"
   ]
  },
  {
   "cell_type": "code",
   "execution_count": null,
   "metadata": {},
   "outputs": [],
   "source": []
  }
 ],
 "metadata": {
  "kernelspec": {
   "display_name": ".venv",
   "language": "python",
   "name": "python3"
  },
  "language_info": {
   "codemirror_mode": {
    "name": "ipython",
    "version": 3
   },
   "file_extension": ".py",
   "mimetype": "text/x-python",
   "name": "python",
   "nbconvert_exporter": "python",
   "pygments_lexer": "ipython3",
   "version": "3.10.9"
  }
 },
 "nbformat": 4,
 "nbformat_minor": 2
}
