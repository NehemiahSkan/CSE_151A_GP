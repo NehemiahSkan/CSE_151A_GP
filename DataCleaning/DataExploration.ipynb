{
 "cells": [
  {
   "cell_type": "code",
   "execution_count": null,
   "id": "3841e42e",
   "metadata": {},
   "outputs": [],
   "source": []
  },
  {
   "cell_type": "code",
   "execution_count": 12,
   "id": "cdc78aa6",
   "metadata": {},
   "outputs": [
    {
     "name": "stderr",
     "output_type": "stream",
     "text": [
      "/home/nskandera/myenv/lib/python3.9/site-packages/dask/dataframe/io/parquet/core.py:1247: FutureWarning: Could not find pyarrow; falling back to fastparquet, which is deprecated and will be removed in a future release.\n",
      "  warnings.warn(\n"
     ]
    }
   ],
   "source": [
    "import dask.dataframe as dd\n",
    "import string\n",
    "\n",
    "df = dd.read_parquet(\"hf://datasets/OpenCo7/UpVoteWeb/data/*.parquet\")"
   ]
  },
  {
   "cell_type": "code",
   "execution_count": 13,
   "id": "826764d2",
   "metadata": {},
   "outputs": [
    {
     "data": {
      "text/html": [
       "<div>\n",
       "<style scoped>\n",
       "    .dataframe tbody tr th:only-of-type {\n",
       "        vertical-align: middle;\n",
       "    }\n",
       "\n",
       "    .dataframe tbody tr th {\n",
       "        vertical-align: top;\n",
       "    }\n",
       "\n",
       "    .dataframe thead th {\n",
       "        text-align: right;\n",
       "    }\n",
       "</style>\n",
       "<table border=\"1\" class=\"dataframe\">\n",
       "  <thead>\n",
       "    <tr style=\"text-align: right;\">\n",
       "      <th></th>\n",
       "      <th>id</th>\n",
       "      <th>parent_id</th>\n",
       "      <th>post_id</th>\n",
       "      <th>text</th>\n",
       "      <th>subreddit</th>\n",
       "      <th>score</th>\n",
       "      <th>token_count</th>\n",
       "    </tr>\n",
       "  </thead>\n",
       "  <tbody>\n",
       "    <tr>\n",
       "      <th>0</th>\n",
       "      <td>kfrxfcr</td>\n",
       "      <td>t3_18vki9b</td>\n",
       "      <td>18vki9b</td>\n",
       "      <td>\"devsisters is so generous guys\"  the generosity:</td>\n",
       "      <td>CookieRunKingdoms</td>\n",
       "      <td>35</td>\n",
       "      <td>13</td>\n",
       "    </tr>\n",
       "    <tr>\n",
       "      <th>1</th>\n",
       "      <td>kfrxfdj</td>\n",
       "      <td>t3_18vlhgc</td>\n",
       "      <td>18vlhgc</td>\n",
       "      <td>Omar Epps waiting in the wings to star in the ...</td>\n",
       "      <td>nfl</td>\n",
       "      <td>253</td>\n",
       "      <td>19</td>\n",
       "    </tr>\n",
       "    <tr>\n",
       "      <th>2</th>\n",
       "      <td>kfrxfde</td>\n",
       "      <td>t3_18vkkxu</td>\n",
       "      <td>18vkkxu</td>\n",
       "      <td>May 1899 be a better year for us all than 1899...</td>\n",
       "      <td>fallenlondon</td>\n",
       "      <td>39</td>\n",
       "      <td>15</td>\n",
       "    </tr>\n",
       "    <tr>\n",
       "      <th>3</th>\n",
       "      <td>kfrxfda</td>\n",
       "      <td>t3_18vkqmn</td>\n",
       "      <td>18vkqmn</td>\n",
       "      <td>Just clean it up a bit. We did almost the same...</td>\n",
       "      <td>Renovations</td>\n",
       "      <td>1</td>\n",
       "      <td>32</td>\n",
       "    </tr>\n",
       "    <tr>\n",
       "      <th>4</th>\n",
       "      <td>kfrxfdl</td>\n",
       "      <td>t1_kfrwiiz</td>\n",
       "      <td>18vl745</td>\n",
       "      <td>Absolutely pleasant little guys. Just a discla...</td>\n",
       "      <td>PokeMedia</td>\n",
       "      <td>7</td>\n",
       "      <td>46</td>\n",
       "    </tr>\n",
       "  </tbody>\n",
       "</table>\n",
       "</div>"
      ],
      "text/plain": [
       "        id   parent_id  post_id  \\\n",
       "0  kfrxfcr  t3_18vki9b  18vki9b   \n",
       "1  kfrxfdj  t3_18vlhgc  18vlhgc   \n",
       "2  kfrxfde  t3_18vkkxu  18vkkxu   \n",
       "3  kfrxfda  t3_18vkqmn  18vkqmn   \n",
       "4  kfrxfdl  t1_kfrwiiz  18vl745   \n",
       "\n",
       "                                                text          subreddit  \\\n",
       "0  \"devsisters is so generous guys\"  the generosity:  CookieRunKingdoms   \n",
       "1  Omar Epps waiting in the wings to star in the ...                nfl   \n",
       "2  May 1899 be a better year for us all than 1899...       fallenlondon   \n",
       "3  Just clean it up a bit. We did almost the same...        Renovations   \n",
       "4  Absolutely pleasant little guys. Just a discla...          PokeMedia   \n",
       "\n",
       "   score  token_count  \n",
       "0     35           13  \n",
       "1    253           19  \n",
       "2     39           15  \n",
       "3      1           32  \n",
       "4      7           46  "
      ]
     },
     "execution_count": 13,
     "metadata": {},
     "output_type": "execute_result"
    }
   ],
   "source": [
    "df = df[df['language'] == 'en']\n",
    "columns_to_drop = ['url', 'author', 'kind', 'language', 'language_score', 'media_urls', 'date']\n",
    "df = df.drop(columns=columns_to_drop)\n",
    "\n",
    "df.head(5)"
   ]
  },
  {
   "cell_type": "code",
   "execution_count": 15,
   "id": "33cc9516",
   "metadata": {},
   "outputs": [
    {
     "ename": "AttributeError",
     "evalue": "module 'string' has no attribute 'maketrans'",
     "output_type": "error",
     "traceback": [
      "\u001b[0;31m---------------------------------------------------------------------------\u001b[0m",
      "\u001b[0;31mAttributeError\u001b[0m                            Traceback (most recent call last)",
      "Cell \u001b[0;32mIn[15], line 2\u001b[0m\n\u001b[1;32m      1\u001b[0m df[\u001b[38;5;124m'\u001b[39m\u001b[38;5;124mtext\u001b[39m\u001b[38;5;124m'\u001b[39m] \u001b[38;5;241m=\u001b[39m df[\u001b[38;5;124m'\u001b[39m\u001b[38;5;124mtext\u001b[39m\u001b[38;5;124m'\u001b[39m]\u001b[38;5;241m.\u001b[39mstr\u001b[38;5;241m.\u001b[39mlower()\n\u001b[0;32m----> 2\u001b[0m df[\u001b[38;5;124m'\u001b[39m\u001b[38;5;124mtext\u001b[39m\u001b[38;5;124m'\u001b[39m] \u001b[38;5;241m=\u001b[39m df[\u001b[38;5;124m'\u001b[39m\u001b[38;5;124mtext\u001b[39m\u001b[38;5;124m'\u001b[39m]\u001b[38;5;241m.\u001b[39mstr\u001b[38;5;241m.\u001b[39mtranslate(\u001b[43mstring\u001b[49m\u001b[38;5;241;43m.\u001b[39;49m\u001b[43mmaketrans\u001b[49m(\u001b[38;5;124m\"\u001b[39m\u001b[38;5;124m\"\u001b[39m,\u001b[38;5;124m\"\u001b[39m\u001b[38;5;124m\"\u001b[39m), string\u001b[38;5;241m.\u001b[39mpunctuation)\n\u001b[1;32m      3\u001b[0m df\u001b[38;5;241m.\u001b[39mhead(\u001b[38;5;241m5\u001b[39m)\n",
      "\u001b[0;31mAttributeError\u001b[0m: module 'string' has no attribute 'maketrans'"
     ]
    }
   ],
   "source": [
    "df['text'] = df['text'].str.lower()\n",
    "df['text'] = df['text'].str.translate(string.maketrans(\"\",\"\"), string.punctuation)\n",
    "df.head(5)\n"
   ]
  },
  {
   "cell_type": "code",
   "execution_count": null,
   "id": "e8c266ef",
   "metadata": {},
   "outputs": [],
   "source": []
  }
 ],
 "metadata": {
  "kernelspec": {
   "display_name": "Python (myenv)",
   "language": "python",
   "name": "myenv"
  },
  "language_info": {
   "codemirror_mode": {
    "name": "ipython",
    "version": 3
   },
   "file_extension": ".py",
   "mimetype": "text/x-python",
   "name": "python",
   "nbconvert_exporter": "python",
   "pygments_lexer": "ipython3",
   "version": "3.9.5"
  }
 },
 "nbformat": 4,
 "nbformat_minor": 5
}
